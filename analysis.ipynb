{
 "cells": [
  {
   "cell_type": "code",
   "execution_count": null,
   "source": [
    "#import the diffrent data frames for each data stream"
   ],
   "outputs": [],
   "metadata": {}
  },
  {
   "cell_type": "code",
   "execution_count": null,
   "source": [
    "#I have the data in the form of start and end times and sleep level\n",
    "\n",
    "\n",
    "#I'll make noon to noon graphs\n",
    "#the height of the graphs will be the sleep stage and color and opacity can be the diffrent streams\n",
    "\n",
    "#i'll want to get an idea of what days have the most overalpping data\n",
    "#i'll make a list of dates that I am interested in\n",
    "#for each day in that list I'll add the name of any of the datastreams that \n",
    "\n",
    "#for every day\n",
    "    #make an empty list\n",
    "    #for every dataframe\n",
    "        #make an empty lits\n",
    "        #append all of the sleep stages for that df for that day\n",
    "        #append to the list for that day\n",
    "\n",
    "#start exploring how many days have overlapping data\n",
    "#see what kind of subsets of data can be used to \n"
   ],
   "outputs": [],
   "metadata": {}
  }
 ],
 "metadata": {
  "orig_nbformat": 4,
  "language_info": {
   "name": "python"
  }
 },
 "nbformat": 4,
 "nbformat_minor": 2
}