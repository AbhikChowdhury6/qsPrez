{
 "cells": [
  {
   "cell_type": "code",
   "execution_count": 1,
   "source": [
    "import pandas as pd\n",
    "import datetime\n",
    "import os\n",
    "import pytz\n",
    "import json\n",
    "print(pd.__version__)\n",
    "utc = pytz.utc\n",
    "\n",
    "datDir = \"./oura/oura_2021-08-10T02-14-44.json\"\n",
    "\n",
    "\n",
    "dataFileColumns = [\"timestamp\", \"stage\", \"endTimestamp\"]\n",
    "\n",
    "outputFileName = \"ouraRingSleepStages.parquet.gzip\"\n",
    "\n",
    "#get list of files in current directroy\n",
    "files = [f for f in os.listdir(\"./\") if os.path.isfile(f)]\n",
    "\n",
    "\n",
    "#if the output file isn't already made, make it\n",
    "if not (outputFileName in files):\n",
    "    print(\"making new df\")\n",
    "    emptydf = pd.DataFrame(columns = dataFileColumns)\n",
    "    emptydf.set_index('timestamp',inplace=True)\n",
    "    print(emptydf)\n",
    "        \n",
    "    #save as a parquet file\n",
    "    emptydf.to_parquet(outputFileName, compression='gzip') \n",
    "\n",
    "\n",
    "df = pd.read_parquet(outputFileName)\n",
    "\n",
    "print(df.head(100))\n",
    "\n",
    "with open(datDir) as f:\n",
    "  jsonData = json.load(f)\n"
   ],
   "outputs": [
    {
     "output_type": "stream",
     "name": "stdout",
     "text": [
      "1.2.4\n",
      "making new df\n",
      "Empty DataFrame\n",
      "Columns: [stage, endTimestamp]\n",
      "Index: []\n",
      "Empty DataFrame\n",
      "Columns: [stage, endTimestamp]\n",
      "Index: []\n"
     ]
    }
   ],
   "metadata": {}
  },
  {
   "cell_type": "code",
   "execution_count": 2,
   "source": [
    "def ouraSleepStageToStandard(ouraNum):\n",
    "    if ouraNum == 4: #awake\n",
    "        return 0\n",
    "    if ouraNum == 2: #light sleep\n",
    "        return 1\n",
    "    if ouraNum == 1: #deep sleep\n",
    "        return 2\n",
    "    if ouraNum == 3: #REM sleep\n",
    "        return 3\n",
    "    "
   ],
   "outputs": [],
   "metadata": {}
  },
  {
   "cell_type": "code",
   "execution_count": 3,
   "source": [
    "\n",
    "#seperate out the list of sleep data\n",
    "for SleepJSON in jsonData['sleep']:\n",
    "    startTime = datetime.datetime.fromisoformat(SleepJSON['bedtime_start']).astimezone(utc)\n",
    "    stageStartTime = startTime\n",
    "\n",
    "    hypnogram_5min = SleepJSON['hypnogram_5min']\n",
    "\n",
    "    toadd = []\n",
    "    #toadd.append(stageStartTime)\n",
    "    toadd.append(ouraSleepStageToStandard(int(hypnogram_5min[0])))\n",
    "\n",
    "    for i in range(1, len(hypnogram_5min)):\n",
    "        if(hypnogram_5min[i-1] != hypnogram_5min[i]):\n",
    "            #save the current time as the end of the last stage\n",
    "            toadd.append(startTime + datetime.timedelta(minutes=i))\n",
    "            #add to the df\n",
    "            df.loc[stageStartTime] = toadd\n",
    "            #reset toadd\n",
    "            toadd = []\n",
    "            #set the current time to the start of the next one\n",
    "            stageStartTime = startTime + datetime.timedelta(minutes=i)\n",
    "            #toadd.append(stageStartTime)\n",
    "            #set the lable of the next stage to the value of the current index\n",
    "\n",
    "            toadd.append(ouraSleepStageToStandard(int(hypnogram_5min[i])))\n",
    "    #set the last end time to the last toadd\n",
    "    toadd.append(startTime + datetime.timedelta(minutes=len(hypnogram_5min)))\n",
    "    #add it to the df\n",
    "    df.loc[stageStartTime] = toadd\n",
    "\n",
    "#sperate out the bedtime_start and the hypnogram_5min\n",
    "\n",
    "#parse it out in a very similar way to the withings data"
   ],
   "outputs": [],
   "metadata": {}
  },
  {
   "cell_type": "code",
   "execution_count": null,
   "source": [
    "print(df)"
   ],
   "outputs": [
    {
     "output_type": "stream",
     "name": "stdout",
     "text": [
      "                                          timestamp stage  \\\n",
      "index                                                       \n",
      "2020-10-15 08:03:59+00:00 2020-10-15 08:03:59+00:00     0   \n",
      "2020-10-15 08:04:59+00:00 2020-10-15 08:04:59+00:00     1   \n",
      "2020-10-15 08:05:59+00:00 2020-10-15 08:05:59+00:00     0   \n",
      "2020-10-15 08:06:59+00:00 2020-10-15 08:06:59+00:00     1   \n",
      "2020-10-15 08:08:59+00:00 2020-10-15 08:08:59+00:00     2   \n",
      "...                                             ...   ...   \n",
      "2021-08-09 09:57:48+00:00 2021-08-09 09:57:48+00:00     1   \n",
      "2021-08-09 10:07:48+00:00 2021-08-09 10:07:48+00:00     2   \n",
      "2021-08-09 10:08:48+00:00 2021-08-09 10:08:48+00:00     1   \n",
      "2021-08-09 10:13:48+00:00 2021-08-09 10:13:48+00:00     3   \n",
      "2021-08-09 10:16:48+00:00 2021-08-09 10:16:48+00:00     0   \n",
      "\n",
      "                                       endTimestamp  \n",
      "index                                                \n",
      "2020-10-15 08:03:59+00:00 2020-10-15 08:04:59+00:00  \n",
      "2020-10-15 08:04:59+00:00 2020-10-15 08:05:59+00:00  \n",
      "2020-10-15 08:05:59+00:00 2020-10-15 08:06:59+00:00  \n",
      "2020-10-15 08:06:59+00:00 2020-10-15 08:08:59+00:00  \n",
      "2020-10-15 08:08:59+00:00 2020-10-15 08:11:59+00:00  \n",
      "...                                             ...  \n",
      "2021-08-09 09:57:48+00:00 2021-08-09 10:07:48+00:00  \n",
      "2021-08-09 10:07:48+00:00 2021-08-09 10:08:48+00:00  \n",
      "2021-08-09 10:08:48+00:00 2021-08-09 10:13:48+00:00  \n",
      "2021-08-09 10:13:48+00:00 2021-08-09 10:16:48+00:00  \n",
      "2021-08-09 10:16:48+00:00 2021-08-09 10:18:48+00:00  \n",
      "\n",
      "[7881 rows x 3 columns]\n"
     ]
    }
   ],
   "metadata": {}
  },
  {
   "cell_type": "code",
   "execution_count": null,
   "source": [
    "df.sort_index(inplace=True)\n",
    "df.to_parquet(outputFileName, compression='gzip') "
   ],
   "outputs": [],
   "metadata": {}
  }
 ],
 "metadata": {
  "orig_nbformat": 4,
  "language_info": {
   "name": "python",
   "version": "3.8.3",
   "mimetype": "text/x-python",
   "codemirror_mode": {
    "name": "ipython",
    "version": 3
   },
   "pygments_lexer": "ipython3",
   "nbconvert_exporter": "python",
   "file_extension": ".py"
  },
  "kernelspec": {
   "name": "python3",
   "display_name": "Python 3.8.3 64-bit ('base': conda)"
  },
  "interpreter": {
   "hash": "87e4dce2d64ddd29ba98032e602deb84283b90528a9753928e81e862a87ea896"
  }
 },
 "nbformat": 4,
 "nbformat_minor": 2
}