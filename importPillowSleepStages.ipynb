{
 "cells": [
  {
   "cell_type": "code",
   "execution_count": 25,
   "source": [
    "import pandas as pd\n",
    "import datetime\n",
    "import os\n",
    "import pytz\n",
    "utc = pytz.utc\n",
    "AZtz = pytz.timezone(\"US/Arizona\")\n",
    "\n",
    "dataFileColumns = [\"timestamp\", \"stage\", \"endTimestamp\"]\n",
    "outputFileName = \"appleWatch6pillowSleepStages.parquet.gzip\"\n",
    "\n",
    "#get list of files in current directroy\n",
    "files = [f for f in os.listdir(\"./\") if os.path.isfile(f)]\n",
    "\n",
    "#if the output file isn't already made, make it\n",
    "if not (outputFileName in files):\n",
    "    print(\"making new df\")\n",
    "    emptydf = pd.DataFrame(columns = dataFileColumns)\n",
    "    emptydf.set_index('timestamp')\n",
    "    print(emptydf)\n",
    "        \n",
    "    #save as a parquet file\n",
    "    emptydf.to_parquet(outputFileName, compression='gzip') \n",
    "\n",
    "\n",
    "df = pd.read_parquet(outputFileName)\n",
    "\n",
    "print(df)"
   ],
   "outputs": [
    {
     "output_type": "stream",
     "name": "stdout",
     "text": [
      "making new df\n",
      "Empty DataFrame\n",
      "Columns: [timestamp, stage, endTimestamp]\n",
      "Index: []\n",
      "Empty DataFrame\n",
      "Columns: [timestamp, stage, endTimestamp]\n",
      "Index: []\n"
     ]
    }
   ],
   "metadata": {}
  },
  {
   "cell_type": "code",
   "execution_count": 26,
   "source": [
    "datDir = \"./appleWatch/PillowData.txt\"\n",
    "\n",
    "with open (datDir, \"r\") as myfile:\n",
    "    dataSTRs=myfile.readlines()\n",
    "\n",
    "#print (dataSTRs[24])\n",
    "\n",
    "for i in range(len(dataSTRs)):\n",
    "    #print(dataSTRs[i])\n",
    "    if dataSTRs[i].strip() == \"ZSLEEPSTAGEDATAPOINT\":\n",
    "        exsleepSTRs = dataSTRs[i+1:]\n",
    "\n",
    "for i in range(len(exsleepSTRs)):\n",
    "    if exsleepSTRs[i].strip() == \"ZSNOOZELAB\":\n",
    "        sleepSTRs = exsleepSTRs[:i-1]\n",
    "\n",
    "    "
   ],
   "outputs": [],
   "metadata": {}
  },
  {
   "cell_type": "code",
   "execution_count": 27,
   "source": [
    "tempdf =pd.DataFrame(columns = [\"timestamp\", \"value\"])\n",
    "unix = datetime.datetime(1970, 1, 1)  # UTC\n",
    "cocoa = datetime.datetime(2001, 1, 1)  # UTC\n",
    "\n",
    "delta = cocoa - unix  # timedelta instance\n",
    "\n",
    "for s in sleepSTRs:\n",
    "    l = s.split(\"Z\")\n",
    "    #print(l)\n",
    "    time = AZtz.localize(datetime.datetime.fromtimestamp(int(l[7].split(\".\")[0][12:])) + delta).astimezone(utc)\n",
    "    #print(time)\n",
    "    tempdf.loc[time] = [time,int(l[5][-3])]\n",
    "\n",
    "tempdf.sort_index(inplace=True)\n"
   ],
   "outputs": [],
   "metadata": {}
  },
  {
   "cell_type": "code",
   "execution_count": 28,
   "source": [
    "#print(tempdf.head(20))"
   ],
   "outputs": [],
   "metadata": {}
  },
  {
   "cell_type": "code",
   "execution_count": 29,
   "source": [
    "stageStartTime = tempdf.iloc[0]['timestamp']\n",
    "toadd = []\n",
    "toadd.append(stageStartTime)\n",
    "toadd.append(int(tempdf.iloc[0]['value']))\n",
    "\n",
    "for i in range(1,len(tempdf)):\n",
    "    if tempdf.iloc[i]['value'] != tempdf.iloc[i-1]['value']:\n",
    "        currentStageTime = tempdf.iloc[i]['timestamp']\n",
    "        toadd.append(currentStageTime)\n",
    "        df.loc[stageStartTime] = toadd\n",
    "        toadd = []\n",
    "        stageStartTime = currentStageTime\n",
    "        toadd.append(stageStartTime)\n",
    "        toadd.append(int(tempdf.iloc[i]['value']))\n",
    "\n",
    "\n",
    "\n"
   ],
   "outputs": [],
   "metadata": {}
  },
  {
   "cell_type": "code",
   "execution_count": 30,
   "source": [
    "print(df)\n",
    "df.to_parquet(outputFileName, compression='gzip') "
   ],
   "outputs": [
    {
     "output_type": "stream",
     "name": "stdout",
     "text": [
      "                                          timestamp stage  \\\n",
      "index                                                       \n",
      "2021-07-20 08:34:22+00:00 2021-07-20 08:34:22+00:00     1   \n",
      "2021-07-20 08:45:52+00:00 2021-07-20 08:45:52+00:00     0   \n",
      "2021-07-20 09:31:34+00:00 2021-07-20 09:31:34+00:00     1   \n",
      "2021-07-20 09:49:40+00:00 2021-07-20 09:49:40+00:00     3   \n",
      "2021-07-20 10:02:45+00:00 2021-07-20 10:02:45+00:00     1   \n",
      "...                                             ...   ...   \n",
      "2021-08-09 13:35:31+00:00 2021-08-09 13:35:31+00:00     0   \n",
      "2021-08-09 13:49:16+00:00 2021-08-09 13:49:16+00:00     2   \n",
      "2021-08-09 14:34:44+00:00 2021-08-09 14:34:44+00:00     0   \n",
      "2021-08-09 14:47:53+00:00 2021-08-09 14:47:53+00:00     1   \n",
      "2021-08-09 15:17:44+00:00 2021-08-09 15:17:44+00:00     0   \n",
      "\n",
      "                                       endTimestamp  \n",
      "index                                                \n",
      "2021-07-20 08:34:22+00:00 2021-07-20 08:45:52+00:00  \n",
      "2021-07-20 08:45:52+00:00 2021-07-20 09:31:34+00:00  \n",
      "2021-07-20 09:31:34+00:00 2021-07-20 09:49:40+00:00  \n",
      "2021-07-20 09:49:40+00:00 2021-07-20 10:02:45+00:00  \n",
      "2021-07-20 10:02:45+00:00 2021-07-20 10:15:28+00:00  \n",
      "...                                             ...  \n",
      "2021-08-09 13:35:31+00:00 2021-08-09 13:49:16+00:00  \n",
      "2021-08-09 13:49:16+00:00 2021-08-09 14:34:44+00:00  \n",
      "2021-08-09 14:34:44+00:00 2021-08-09 14:47:53+00:00  \n",
      "2021-08-09 14:47:53+00:00 2021-08-09 15:17:44+00:00  \n",
      "2021-08-09 15:17:44+00:00 2021-08-09 15:32:09+00:00  \n",
      "\n",
      "[347 rows x 3 columns]\n"
     ]
    }
   ],
   "metadata": {}
  },
  {
   "cell_type": "code",
   "execution_count": 31,
   "source": [
    "#import it as one big string\n",
    "#split at ZSLEEPSTAGEDATAPOINT \n",
    "#then split at ZSNOOZELAB\n",
    "\n",
    "\n",
    "\n",
    "#each line will be it's own stage split at Z\n",
    "\n",
    "#i'm going to add each line to a temporary DF \n",
    "#sort by timestamp and reindex\n",
    "#iterate over indexes calculate the time in the sleep stage coalesing neighboring sleep stages\n",
    "#save new rows to the proper df to be saved"
   ],
   "outputs": [],
   "metadata": {}
  }
 ],
 "metadata": {
  "orig_nbformat": 4,
  "language_info": {
   "name": "python",
   "version": "3.8.3",
   "mimetype": "text/x-python",
   "codemirror_mode": {
    "name": "ipython",
    "version": 3
   },
   "pygments_lexer": "ipython3",
   "nbconvert_exporter": "python",
   "file_extension": ".py"
  },
  "kernelspec": {
   "name": "python3",
   "display_name": "Python 3.8.3 64-bit ('base': conda)"
  },
  "interpreter": {
   "hash": "87e4dce2d64ddd29ba98032e602deb84283b90528a9753928e81e862a87ea896"
  }
 },
 "nbformat": 4,
 "nbformat_minor": 2
}