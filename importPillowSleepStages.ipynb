{
 "cells": [
  {
   "cell_type": "code",

   "source": [
    "import pandas as pd\n",
    "import datetime\n",
    "import os\n",
    "import pytz\n",
    "utc = pytz.utc\n",
    "AZtz = pytz.timezone(\"US/Arizona\")\n",
    "\n",
    "dataFileColumns = [\"timestamp\", \"stage\", \"endTimestamp\"]\n",
    "outputFileName = \"appleWatch6pillowSleepStages.parquet.gzip\"\n",
    "\n",
    "#get list of files in current directroy\n",
    "files = [f for f in os.listdir(\"./\") if os.path.isfile(f)]\n",
    "\n",
    "#if the output file isn't already made, make it\n",
    "if not (outputFileName in files):\n",
    "    print(\"making new df\")\n",
    "    emptydf = pd.DataFrame(columns = dataFileColumns)\n",
    "    emptydf.set_index('timestamp')\n",
    "    print(emptydf)\n",
    "        \n",
    "    #save as a parquet file\n",
    "    emptydf.to_parquet(outputFileName, compression='gzip') \n",
    "\n",
    "\n",
    "df = pd.read_parquet(outputFileName)\n",
    "\n",

   "source": [
    "#import it as one big string\n",
    "#split at ZSLEEPSTAGEDATAPOINT \n",
    "#then split at ZSNOOZELAB\n",
    "\n",
    "\n",
    "\n",
    "#each line will be it's own stage split at Z\n",
    "\n",
    "#i'm going to add each line to a temporary DF \n",
    "#sort by timestamp and reindex\n",
    "#iterate over indexes calculate the time in the sleep stage coalesing neighboring sleep stages\n",
    "#save new rows to the proper df to be saved"
   ]
  }
 ],
 "metadata": {
  "kernelspec": {
   "display_name": "Python 3",
   "language": "python",
   "name": "python3"
  },
  "language_info": {

   "codemirror_mode": {
    "name": "ipython",
    "version": 3
   },

  }
 },
 "nbformat": 4,
 "nbformat_minor": 2
}
