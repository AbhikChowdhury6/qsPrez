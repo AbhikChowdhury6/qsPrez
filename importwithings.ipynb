{
 "cells": [
  {
   "cell_type": "code",

   "source": [
    "import pandas as pd\n",
    "import datetime\n",
    "import os\n",
    "import pytz\n",
    "print(pd.__version__)\n",
    "utc = pytz.utc\n",
    "\n",
    "datDir = \"./withings/raw_bed_sleep-state.csv\"\n",
    "#datDir = \"./withings/raw_sleep-monitor_sleep-state.csv\"\n",
    "\n",
    "\n",
    "\n",
    "with open (datDir, \"r\") as myfile:\n",
    "    dataSTRs=myfile.readlines()\n",
    "dataSTRs = dataSTRs[1:]#remove the title bar\n",
    "\n",
    "outputFileName = \"withingsBedSleepStages.parquet.gzip\"\n",
    "\n",
    "dataFileColumns = [\"timestamp\", \"stage\", \"endTimestamp\"]\n",
    "\n",
    "\n",
    "#get list of files in current directroy\n",
    "files = [f for f in os.listdir(\"./\") if os.path.isfile(f)]\n",
    "\n",
    "print(files)\n",
    "print(outputFileName in files)\n",
    "#if the output file isn't already made, make it\n",
    "if not (outputFileName in files):\n",
    "    print(\"making new df\")\n",
    "    emptydf = pd.DataFrame(columns = dataFileColumns)\n",
    "    emptydf.set_index('timestamp', inplace=True)\n",
    "    print(emptydf)\n",
    "        \n",
    "    #save as a parquet file\n",
    "    emptydf.to_parquet(outputFileName, compression='gzip') \n",
    "\n",
    "\n",
    "df = pd.read_parquet(outputFileName)\n",
    "\n",

   "outputs": [
    {
     "name": "stdout",
     "output_type": "stream",
     "text": [

   "source": [
    "#ok I'm just going to assume that the gps corrdinates are necessary metadata to get the local time offset\n",
    "#i'm just going to manually get all of the values from the data exports in UTC time and then calculate the local offset later\n",
    "\n",
    "# timezone tests\n",
    "testdt = datetime.datetime(2002, 10, 27, 6, 0, 0)\n",
    "print(testdt)\n",
    "print(testdt.tzinfo)\n",
    "testdt = utc.localize(testdt)\n",
    "print(testdt)\n",
    "print(testdt.tzinfo)"
   ]
  },
  {
   "cell_type": "code",

   "source": [
    "#readlines\n",
    "#the problem where if there is only one element in the list there are no quotes used so the formatting is slightly diffrent \n",
    "\n",
    "for r in dataSTRs:\n",
    "    datList = r.split('[')\n",
    "    toadd = []\n",
    "\n",
    "    time = pd.to_datetime(datList[0].split(\"+\")[0], format='%Y-%m-%dT%H:%M:%S') \n",
    "    tzoffset = datetime.timedelta(hours=(-1 * int(datList[0].split(\"+\")[1][1])))#it's stored in french time so the offset should always be +\n",
    "    startTime = utc.localize(time + tzoffset)\n",
    "    stageStartTime = startTime\n",
    "    #toadd.append(stageStartTime)\n",
    "    #print(stageStartTime)\n",
    "    #print(tzoffset)\n",
    "\n",
    "    #first i want to check if the datList[2]s length is == 2 and if so parse it diffrently, write the toadd and continue\n",
    "    if len(datList[2].strip()) == 2:\n",
    "        toadd.append(int(datList[2][0]))\n",
    "        toadd.append(stageStartTime + datetime.timedelta(minutes=1))\n",
    "        df.loc[stageStartTime] = toadd\n",
    "    else:\n",
    "        stagelist = datList[2].strip()[:-2].split(',') #remove newline, clsose bracket and close quote, and split on commas\n",
    "        #print(stagelist)\n",
    "        \n",
    "        #get the first stage in the row and add it to tooadd and set it to lastStage\n",
    "        toadd.append(int(stagelist[0]))\n",
    "        for i in range(1,len(stagelist)):\n",
    "            if stagelist[i] != stagelist[i-1]:\n",
    "                #save the current time as the end of the last stage\n",
    "                toadd.append(startTime + datetime.timedelta(minutes=i))\n",
    "                #add to the df\n",
    "                df.loc[stageStartTime] = toadd\n",
    "                #reset toadd\n",
    "                toadd = []\n",
    "                #set the current time to the start of the next one\n",
    "                stageStartTime = startTime + datetime.timedelta(minutes=i)\n",
    "                #toadd.append(stageStartTime)\n",
    "                #set the lable of the next stage to the value of the current index\n",
    "                toadd.append(int(stagelist[i]))\n",
    "        #set the last end time to the last toadd\n",
    "        toadd.append(startTime + datetime.timedelta(minutes=len(stagelist)))\n",
    "        #add it to the df\n",
    "        df.loc[stageStartTime] = toadd\n",
    "\n",
    "\n",
    "\n",
    "\n",
    "\n",
    "#for each line\n",
    "    #seperate out the initial timestamp\n",
    "    #get the list of sleep stages\n",
    "    #for every stage in that list\n",
    "        #increment offset\n",
    "        #see if that is a number is new\n",
    "        #if so end and write the current sleep stage\n",
    "        #start the new stage"
   ]
  },
  {
   "cell_type": "code",

    {
     "name": "stdout",
     "output_type": "stream",
     "text": [
      "                           stage              endTimestamp\n",
      "timestamp                                                 \n",
      "2020-10-12 18:59:00+00:00      0 2020-10-12 19:21:00+00:00\n",
      "2020-10-12 21:11:00+00:00      0 2020-10-12 21:25:00+00:00\n",
      "2020-10-12 21:27:00+00:00      0 2020-10-12 21:59:00+00:00\n",
      "2020-10-12 21:59:00+00:00      0 2020-10-12 22:06:00+00:00\n",
      "2020-10-12 22:06:00+00:00      1 2020-10-12 22:37:00+00:00\n",
      "...                          ...                       ...\n",
      "2021-06-02 22:12:00+00:00      1 2021-06-02 22:28:00+00:00\n",
      "2021-06-02 23:13:00+00:00      0 2021-06-02 23:43:00+00:00\n",
      "2021-06-02 23:43:00+00:00      1 2021-06-03 00:01:00+00:00\n",
      "2021-06-03 00:01:00+00:00      2 2021-06-03 00:31:00+00:00\n",
      "2021-06-03 00:31:00+00:00      3 2021-06-03 00:56:00+00:00\n",
      "\n",
      "[3210 rows x 2 columns]\n"
     ]
    }
   ],
   "source": [
    "print(df.head(20))"
   ]
  },
  {
   "cell_type": "code",

   "source": [
    "df.sort_index(inplace=True)\n",
    "df.to_parquet(outputFileName, compression='gzip') "
   ]
  }
 ],
 "metadata": {
  "interpreter": {
   "hash": "87e4dce2d64ddd29ba98032e602deb84283b90528a9753928e81e862a87ea896"
  },
  "kernelspec": {
   "display_name": "Python 3",
   "language": "python",
   "name": "python3"
  },
  "language_info": {
   "codemirror_mode": {
    "name": "ipython",
    "version": 3
   },
   "file_extension": ".py",
   "mimetype": "text/x-python",
   "name": "python",
   "nbconvert_exporter": "python",
   "pygments_lexer": "ipython3",
   "version": "3.7.4"
  }
 },
 "nbformat": 4,
 "nbformat_minor": 2
}
