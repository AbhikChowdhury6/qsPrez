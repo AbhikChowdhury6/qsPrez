{
 "cells": [
  {
   "cell_type": "code",
   "execution_count": 1,
   "source": [
    "import pandas as pd\n",
    "import datetime\n",
    "import os\n",
    "import pytz\n",
    "import json\n",
    "print(pd.__version__)\n",
    "utc = pytz.utc\n",
    "AZtz = pytz.timezone(\"US/Arizona\")\n",
    "\n",
    "dataFileColumns = [\"timestamp\", \"stage\", \"endTimestamp\"]\n",
    "outputFileName = \"fitbitSleepStages.parquet.gzip\"\n",
    "\n",
    "#get list of files in current directroy\n",
    "files = [f for f in os.listdir(\"./\") if os.path.isfile(f)]\n",
    "\n",
    "#if the output file isn't already made, make it\n",
    "if not (outputFileName in files):\n",
    "    print(\"making new df\")\n",
    "    emptydf = pd.DataFrame(columns = dataFileColumns)\n",
    "    emptydf.set_index('timestamp')\n",
    "    print(emptydf)\n",
    "        \n",
    "    #save as a parquet file\n",
    "    emptydf.to_parquet(outputFileName, compression='gzip') \n",
    "\n",
    "\n",
    "df = pd.read_parquet(outputFileName)\n",
    "\n",
    "print(df.head(100))\n"
   ],
   "outputs": [
    {
     "output_type": "stream",
     "name": "stdout",
     "text": [
      "1.2.4\n",
      "making new df\n",
      "Empty DataFrame\n",
      "Columns: [timestamp, stage, endTimestamp]\n",
      "Index: []\n",
      "Empty DataFrame\n",
      "Columns: [timestamp, stage, endTimestamp]\n",
      "Index: []\n"
     ]
    }
   ],
   "metadata": {}
  },
  {
   "cell_type": "code",
   "execution_count": 2,
   "source": [
    "def fitbitSleepStageToStandard(stageName):\n",
    "    if stageName == \"restless\":\n",
    "        return 0\n",
    "    if stageName == \"asleep\":\n",
    "        return 1\n",
    "    if stageName == \"wake\":\n",
    "        return 0\n",
    "    if stageName == \"light\":\n",
    "        return 1\n",
    "    if stageName == \"deep\":\n",
    "        return 2\n",
    "    if stageName == \"rem\":\n",
    "        return 3\n"
   ],
   "outputs": [],
   "metadata": {}
  },
  {
   "cell_type": "code",
   "execution_count": 20,
   "source": [
    "# there's a list of sleep objects for each sleep session\n",
    "# we want start time and assign the phoenix timezone\n",
    "#then there's a data list of sleep stage json objects\n",
    "def addJSONdataTodf(jd, returnDF):\n",
    "    for sleepSession in jd:\n",
    "        #print(sleepSession['levels']['data'])\n",
    "        #print(sleepSession)\n",
    "        \n",
    "        for sleepStage in sleepSession['levels']['data']:\n",
    "            toadd = []\n",
    "            stageTime = AZtz.localize(pd.to_datetime(sleepStage['dateTime'], format='%Y-%m-%dT%H:%M:%S.%f')).astimezone(utc)\n",
    "            toadd.append(stageTime)\n",
    "            toadd.append(fitbitSleepStageToStandard(sleepStage['level']))\n",
    "            toadd.append(stageTime + datetime.timedelta(seconds=int(sleepStage['seconds'])))\n",
    "            returnDF.loc[stageTime] = toadd\n",
    "    return returnDF\n"
   ],
   "outputs": [],
   "metadata": {}
  },
  {
   "cell_type": "code",
   "execution_count": 21,
   "source": [
    "datDir = \"./fitbit/\"\n",
    "\n",
    "sleepFiles = os.listdir(datDir)\n",
    "\n",
    "print(sleepFiles)\n",
    "for sf in sleepFiles:\n",
    "  with open(datDir + sf) as f:\n",
    "    jsonData = json.load(f)\n",
    "  df = addJSONdataTodf(jsonData,df)\n",
    "  print(\"imported: \" + sf)"
   ],
   "outputs": [
    {
     "output_type": "stream",
     "name": "stdout",
     "text": [
      "['sleep-2020-06-11.json', 'sleep-2020-05-12.json', 'sleep-2020-07-11.json']\n",
      "imported: sleep-2020-06-11.json\n",
      "imported: sleep-2020-05-12.json\n",
      "imported: sleep-2020-07-11.json\n"
     ]
    }
   ],
   "metadata": {}
  },
  {
   "cell_type": "code",
   "execution_count": 22,
   "source": [
    "print(df.head(20))"
   ],
   "outputs": [
    {
     "output_type": "stream",
     "name": "stdout",
     "text": [
      "                                          timestamp stage  \\\n",
      "index                                                       \n",
      "2020-07-11 09:13:00+00:00 2020-07-11 09:13:00+00:00     1   \n",
      "2020-07-11 09:15:00+00:00 2020-07-11 09:15:00+00:00     0   \n",
      "2020-07-11 09:35:30+00:00 2020-07-11 09:35:30+00:00     1   \n",
      "2020-07-11 09:54:30+00:00 2020-07-11 09:54:30+00:00     2   \n",
      "2020-07-11 10:07:00+00:00 2020-07-11 10:07:00+00:00     1   \n",
      "2020-07-11 10:31:30+00:00 2020-07-11 10:31:30+00:00     3   \n",
      "2020-07-11 10:43:00+00:00 2020-07-11 10:43:00+00:00     1   \n",
      "2020-07-11 10:56:00+00:00 2020-07-11 10:56:00+00:00     0   \n",
      "2020-07-11 11:01:00+00:00 2020-07-11 11:01:00+00:00     1   \n",
      "2020-07-11 11:09:30+00:00 2020-07-11 11:09:30+00:00     2   \n",
      "2020-07-11 11:40:30+00:00 2020-07-11 11:40:30+00:00     1   \n",
      "2020-07-11 11:55:00+00:00 2020-07-11 11:55:00+00:00     3   \n",
      "2020-07-11 12:17:00+00:00 2020-07-11 12:17:00+00:00     1   \n",
      "2020-07-11 13:19:00+00:00 2020-07-11 13:19:00+00:00     2   \n",
      "2020-07-11 13:37:00+00:00 2020-07-11 13:37:00+00:00     1   \n",
      "2020-07-11 13:41:30+00:00 2020-07-11 13:41:30+00:00     3   \n",
      "2020-07-11 14:03:30+00:00 2020-07-11 14:03:30+00:00     1   \n",
      "2020-07-11 14:08:00+00:00 2020-07-11 14:08:00+00:00     3   \n",
      "2020-07-11 14:15:30+00:00 2020-07-11 14:15:30+00:00     1   \n",
      "2020-07-11 15:00:00+00:00 2020-07-11 15:00:00+00:00     0   \n",
      "\n",
      "                                       endTimestamp  \n",
      "index                                                \n",
      "2020-07-11 09:13:00+00:00 2020-07-11 09:15:00+00:00  \n",
      "2020-07-11 09:15:00+00:00 2020-07-11 09:35:30+00:00  \n",
      "2020-07-11 09:35:30+00:00 2020-07-11 09:54:30+00:00  \n",
      "2020-07-11 09:54:30+00:00 2020-07-11 10:07:00+00:00  \n",
      "2020-07-11 10:07:00+00:00 2020-07-11 10:31:30+00:00  \n",
      "2020-07-11 10:31:30+00:00 2020-07-11 10:43:00+00:00  \n",
      "2020-07-11 10:43:00+00:00 2020-07-11 10:56:00+00:00  \n",
      "2020-07-11 10:56:00+00:00 2020-07-11 11:01:00+00:00  \n",
      "2020-07-11 11:01:00+00:00 2020-07-11 11:09:30+00:00  \n",
      "2020-07-11 11:09:30+00:00 2020-07-11 11:40:30+00:00  \n",
      "2020-07-11 11:40:30+00:00 2020-07-11 11:55:00+00:00  \n",
      "2020-07-11 11:55:00+00:00 2020-07-11 12:17:00+00:00  \n",
      "2020-07-11 12:17:00+00:00 2020-07-11 13:19:00+00:00  \n",
      "2020-07-11 13:19:00+00:00 2020-07-11 13:37:00+00:00  \n",
      "2020-07-11 13:37:00+00:00 2020-07-11 13:41:30+00:00  \n",
      "2020-07-11 13:41:30+00:00 2020-07-11 14:03:30+00:00  \n",
      "2020-07-11 14:03:30+00:00 2020-07-11 14:08:00+00:00  \n",
      "2020-07-11 14:08:00+00:00 2020-07-11 14:15:30+00:00  \n",
      "2020-07-11 14:15:30+00:00 2020-07-11 15:00:00+00:00  \n",
      "2020-07-11 15:00:00+00:00 2020-07-11 15:07:00+00:00  \n"
     ]
    }
   ],
   "metadata": {}
  },
  {
   "cell_type": "code",
   "execution_count": 6,
   "source": [
    "df.to_parquet(outputFileName, compression='gzip') "
   ],
   "outputs": [],
   "metadata": {}
  }
 ],
 "metadata": {
  "orig_nbformat": 4,
  "language_info": {
   "name": "python",
   "version": "3.8.3",
   "mimetype": "text/x-python",
   "codemirror_mode": {
    "name": "ipython",
    "version": 3
   },
   "pygments_lexer": "ipython3",
   "nbconvert_exporter": "python",
   "file_extension": ".py"
  },
  "kernelspec": {
   "name": "python3",
   "display_name": "Python 3.8.3 64-bit ('base': conda)"
  },
  "interpreter": {
   "hash": "87e4dce2d64ddd29ba98032e602deb84283b90528a9753928e81e862a87ea896"
  }
 },
 "nbformat": 4,
 "nbformat_minor": 2
}