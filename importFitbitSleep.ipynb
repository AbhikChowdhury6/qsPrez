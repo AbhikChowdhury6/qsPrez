{
 "cells": [
  {
   "cell_type": "code",
   "execution_count": 1,
   "metadata": {},
   "outputs": [
    {
     "name": "stdout",
     "output_type": "stream",
     "text": [
      "1.2.4\n",
      "making new df\n",
      "Empty DataFrame\n",
      "Columns: [timestamp, stage, endTimestamp]\n",
      "Index: []\n",
      "Empty DataFrame\n",
      "Columns: [timestamp, stage, endTimestamp]\n",
      "Index: []\n"
     ]
    }
   ],
   "source": [
    "import pandas as pd\n",
    "import datetime\n",
    "import os\n",
    "import pytz\n",
    "import json\n",
    "print(pd.__version__)\n",
    "utc = pytz.utc\n",
    "AZtz = pytz.timezone(\"US/Arizona\")\n",
    "\n",
    "dataFileColumns = [\"timestamp\", \"stage\", \"endTimestamp\"]\n",
    "outputFileName = \"fitbitSleepStages.parquet.gzip\"\n",
    "\n",
    "#get list of files in current directroy\n",
    "files = [f for f in os.listdir(\"./\") if os.path.isfile(f)]\n",
    "\n",
    "#if the output file isn't already made, make it\n",
    "if not (outputFileName in files):\n",
    "    print(\"making new df\")\n",
    "    emptydf = pd.DataFrame(columns = dataFileColumns)\n",
    "    emptydf.set_index('timestamp',inplace=True)\n",
    "    print(emptydf)\n",
    "        \n",
    "    #save as a parquet file\n",
    "    emptydf.to_parquet(outputFileName, compression='gzip') \n",
    "\n",
    "\n",
    "df = pd.read_parquet(outputFileName)\n",
    "\n",

  },
  {
   "cell_type": "code",
   "execution_count": 2,
   "metadata": {},
   "outputs": [],
   "source": [
    "def fitbitSleepStageToStandard(stageName):\n",
    "    if stageName == \"restless\":\n",
    "        return 0\n",
    "    if stageName == \"asleep\":\n",
    "        return 1\n",
    "    if stageName == \"wake\":\n",
    "        return 0\n",
    "    if stageName == \"light\":\n",
    "        return 1\n",
    "    if stageName == \"deep\":\n",
    "        return 2\n",
    "    if stageName == \"rem\":\n",
    "        return 3\n"
   ]
  },
  {
   "cell_type": "code",

   "source": [
    "# there's a list of sleep objects for each sleep session\n",
    "# we want start time and assign the phoenix timezone\n",
    "#then there's a data list of sleep stage json objects\n",
    "def addJSONdataTodf(jd, returnDF):\n",
    "    for sleepSession in jd:\n",
    "        #print(sleepSession['levels']['data'])\n",
    "        #print(sleepSession)\n",
    "        \n",
    "        for sleepStage in sleepSession['levels']['data']:\n",
    "            toadd = []\n",
    "            stageTime = AZtz.localize(pd.to_datetime(sleepStage['dateTime'], format='%Y-%m-%dT%H:%M:%S.%f')).astimezone(utc)\n",
    "            #toadd.append(stageTime)\n",
    "            toadd.append(fitbitSleepStageToStandard(sleepStage['level']))\n",
    "            toadd.append(stageTime + datetime.timedelta(seconds=int(sleepStage['seconds'])))\n",
    "            returnDF.loc[stageTime] = toadd\n",
    "    return returnDF\n"
   ]
  },
  {
   "cell_type": "code",

   "outputs": [
    {
     "name": "stdout",
     "output_type": "stream",
     "text": [
      "['sleep-2020-06-11.json', 'sleep-2020-05-12.json', 'sleep-2021-04-07.json', 'sleep-2021-02-06.json', 'sleep-2020-08-10.json', 'sleep-2020-11-08.json', 'sleep-2021-07-06.json', 'sleep-2021-05-07.json', 'sleep-2020-09-09.json', 'sleep-2020-10-09.json', 'sleep-2020-12-08.json', 'sleep-2021-01-07.json', 'sleep-2021-03-08.json', 'sleep-2021-08-05.json', 'sleep-2020-07-11.json', 'sleep-2021-06-06.json']\n",
      "imported: sleep-2020-06-11.json\n",
      "imported: sleep-2020-05-12.json\n",
      "imported: sleep-2021-04-07.json\n",
      "imported: sleep-2021-02-06.json\n",
      "imported: sleep-2020-08-10.json\n",
      "imported: sleep-2020-11-08.json\n",
      "imported: sleep-2021-07-06.json\n",
      "imported: sleep-2021-05-07.json\n",
      "imported: sleep-2020-09-09.json\n",
      "imported: sleep-2020-10-09.json\n",
      "imported: sleep-2020-12-08.json\n",
      "imported: sleep-2021-01-07.json\n",
      "imported: sleep-2021-03-08.json\n",
      "imported: sleep-2021-08-05.json\n",
      "imported: sleep-2020-07-11.json\n",
      "imported: sleep-2021-06-06.json\n"
     ]
    }
   ],
   "source": [
    "datDir = \"./fitbit/\"\n",
    "\n",
    "sleepFiles = os.listdir(datDir)\n",
    "\n",
    "print(sleepFiles)\n",
    "for sf in sleepFiles:\n",
    "  with open(datDir + sf) as f:\n",
    "    jsonData = json.load(f)\n",
    "  df = addJSONdataTodf(jsonData,df)\n",
    "  print(\"imported: \" + sf)"
   ]
  },
  {
   "cell_type": "code",

   "outputs": [
    {
     "name": "stdout",
     "output_type": "stream",
     "text": [
      "                                          timestamp stage  \\\n",
      "index                                                       \n",
      "2020-05-13 20:43:00+00:00 2020-05-13 20:43:00+00:00     0   \n",
      "2020-05-13 20:45:00+00:00 2020-05-13 20:45:00+00:00     1   \n",
      "2020-05-13 21:41:00+00:00 2020-05-13 21:41:00+00:00     0   \n",
      "2020-05-13 21:42:00+00:00 2020-05-13 21:42:00+00:00     1   \n",
      "2020-05-14 08:21:00+00:00 2020-05-14 08:21:00+00:00     0   \n",
      "...                                             ...   ...   \n",
      "2021-08-09 13:39:30+00:00 2021-08-09 13:39:30+00:00     3   \n",
      "2021-08-09 14:07:00+00:00 2021-08-09 14:07:00+00:00     1   \n",
      "2021-08-09 14:47:00+00:00 2021-08-09 14:47:00+00:00     2   \n",
      "2021-08-09 14:56:30+00:00 2021-08-09 14:56:30+00:00     0   \n",
      "2021-08-09 15:01:30+00:00 2021-08-09 15:01:30+00:00     1   \n",
      "\n",
      "                                       endTimestamp  \n",
      "index                                                \n",
      "2020-05-13 20:43:00+00:00 2020-05-13 20:45:00+00:00  \n",
      "2020-05-13 20:45:00+00:00 2020-05-13 21:41:00+00:00  \n",
      "2020-05-13 21:41:00+00:00 2020-05-13 21:42:00+00:00  \n",
      "2020-05-13 21:42:00+00:00 2020-05-13 21:43:00+00:00  \n",
      "2020-05-14 08:21:00+00:00 2020-05-14 08:32:30+00:00  \n",
      "...                                             ...  \n",
      "2021-08-09 13:39:30+00:00 2021-08-09 14:07:00+00:00  \n",
      "2021-08-09 14:07:00+00:00 2021-08-09 14:47:00+00:00  \n",
      "2021-08-09 14:47:00+00:00 2021-08-09 14:56:30+00:00  \n",
      "2021-08-09 14:56:30+00:00 2021-08-09 15:01:30+00:00  \n",
      "2021-08-09 15:01:30+00:00 2021-08-09 15:44:30+00:00  \n",
      "\n",
      "[14033 rows x 3 columns]\n"
     ]
    }
   ],
   "source": [
    "print(df.head(20))"
   ]
  },
  {
   "cell_type": "code",

   "source": [
    "df.sort_index(inplace=True)\n",
    "df.to_parquet(outputFileName, compression='gzip') "
   ]
  }
 ],
 "metadata": {
  "interpreter": {
   "hash": "87e4dce2d64ddd29ba98032e602deb84283b90528a9753928e81e862a87ea896"
  },
  "kernelspec": {
   "display_name": "Python 3",
   "language": "python",
   "name": "python3"
  },
  "language_info": {
   "codemirror_mode": {
    "name": "ipython",
    "version": 3
   },
   "file_extension": ".py",
   "mimetype": "text/x-python",
   "name": "python",
   "nbconvert_exporter": "python",
   "pygments_lexer": "ipython3",
   "version": "3.7.4"
  }
 },
 "nbformat": 4,
 "nbformat_minor": 2
}
