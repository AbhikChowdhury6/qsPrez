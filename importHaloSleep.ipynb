{
 "cells": [
  {
   "cell_type": "code",
   "execution_count": 1,
   "metadata": {},
   "outputs": [
    {
     "name": "stdout",
     "output_type": "stream",
     "text": [
      "1.2.4\n",
      "['importHaloSleep.ipynb', 'withingsBedSleepStages.parquet.gzip', 'importwithings.ipynb']\n",
      "False\n",
      "making new df\n",
      "Empty DataFrame\n",
      "Columns: [timestamp, stage, endTimestamp]\n",
      "Index: []\n",
      "Empty DataFrame\n",
      "Columns: [timestamp, stage, endTimestamp]\n",
      "Index: []\n"
     ]
    }
   ],
   "source": [
    "import pandas as pd\n",
    "import os\n",
    "import datetime\n",
    "import pytz\n",
    "utc = pytz.utc\n",
    "\n",
    "print(pd.__version__)\n",
    "\n",
    "datDir = \"./halo/Sleep_Sessions_2bf6146f-385e-48c9-95da-f654a0c501b2.csv\"\n",
    "\n",
    "with open (datDir, \"r\") as myfile:\n",
    "    dataSTRs=myfile.readlines()\n",
    "dataSTRs = dataSTRs[1:]#remove the title bar\n",
    "\n",
    "outputFileName = \"amazonHaloSleepStages.parquet.gzip\"\n",
    "\n",
    "dataFileColumns = [\"timestamp\", \"stage\", \"endTimestamp\"]\n",
    "\n",
    "#get list of files in current directroy\n",
    "files = [f for f in os.listdir(\"./\") if os.path.isfile(f)]\n",
    "\n",
    "print(files)\n",
    "print(outputFileName in files)\n",
    "#if the output file isn't already made, make it\n",
    "if not (outputFileName in files):\n",
    "    print(\"making new df\")\n",
    "    emptydf = pd.DataFrame(columns = dataFileColumns)\n",
    "    emptydf.set_index('timestamp')\n",
    "    print(emptydf)\n",
    "        \n",
    "    #save as a parquet file\n",
    "    emptydf.to_parquet(outputFileName, compression='gzip') \n",
    "\n",
    "\n",
    "df = pd.read_parquet(outputFileName)\n",
    "\n",
    "print(df.head(100))\n"

  },
  {
   "cell_type": "code",
   "execution_count": 2,
   "metadata": {},
   "outputs": [],
   "source": [
    "#parsing\n",
    "\n",
    "#TODO change all timestamps to that time -7 for the timezone \n",
    "#should I have a gps coordinate associated with them?\n",
    "\n",
    "for r in dataSTRs:\n",
    "    splitR = r.split(\",\")\n",
    "    #print(r)\n",
    "    #timezoneOffset = datetime.timedelta(hours=int(splitR[2]))\n",
    "    sleepDat = splitR[29]#remove metadata\n",
    "    #print(sleepDat)\n",
    "    for stage in sleepDat.split(\";\"):\n",
    "        if len(stage) > 1:\n",
    "            d = stage.split(\"|\")\n",
    "            #print(d)\n",
    "            toadd = []\n",
    "            toadd.append(utc.localize(pd.to_datetime(d[1].strip(), format='%Y-%m-%dT%H:%M:%S.%fZ')))\n",
    "            if d[0] == \"WAKE\":\n",
    "                toadd.append(1)\n",
    "            if d[0] == \"LIGHT\":\n",
    "                toadd.append(2)\n",
    "            if d[0] == \"DEEP\":\n",
    "                toadd.append(3)\n",
    "            if d[0] == \"REM\":\n",
    "                toadd.append(4)\n",
    "            toadd.append(utc.localize(pd.to_datetime(d[2].strip(), format='%Y-%m-%dT%H:%M:%S.%fZ')))\n",
    "            if len(toadd) != 3:\n",
    "                print(\"error parsing\")\n",
    "                print(toadd)\n",
    "            df.loc[utc.localize(pd.to_datetime(d[1].strip(), format='%Y-%m-%dT%H:%M:%S.%fZ'))] = toadd\n",
    "        \n",
    "\n",
    "    #for every element in that row\n",
    "        #split on |\n",
    "        #convert the second element to timestamp and put it in the too add list\n",
    "        #convert the first element to the slep stage number and put it in the too add list \n",
    "        #convert the last element into a timestammp and put it in nthe too add list\n",
    "        #add the \"too add\" list to the df"
   ]
  },
  {
   "cell_type": "code",

   "outputs": [
    {
     "name": "stdout",
     "output_type": "stream",
     "text": [
      "163\n"
     ]
    }
   ],
   "source": [
    "print(len(dataSTRs))"
   ]
  },
  {
   "cell_type": "code",

   "outputs": [
    {
     "name": "stdout",
     "output_type": "stream",
     "text": [
      "                                          timestamp stage  \\\n",
      "index                                                       \n",
      "2021-01-26 08:47:47+00:00 2021-01-26 08:47:47+00:00     1   \n",
      "2021-01-26 08:49:17+00:00 2021-01-26 08:49:17+00:00     2   \n",
      "2021-01-26 08:53:47+00:00 2021-01-26 08:53:47+00:00     3   \n",
      "2021-01-26 09:02:47+00:00 2021-01-26 09:02:47+00:00     1   \n",
      "2021-01-26 09:03:17+00:00 2021-01-26 09:03:17+00:00     2   \n",
      "...                                             ...   ...   \n",
      "2021-08-09 15:15:27+00:00 2021-08-09 15:15:27+00:00     2   \n",
      "2021-08-09 15:24:57+00:00 2021-08-09 15:24:57+00:00     4   \n",
      "2021-08-09 15:26:57+00:00 2021-08-09 15:26:57+00:00     1   \n",
      "2021-08-09 15:27:27+00:00 2021-08-09 15:27:27+00:00     4   \n",
      "2021-08-09 15:41:27+00:00 2021-08-09 15:41:27+00:00     1   \n",
      "\n",
      "                                       endTimestamp  \n",
      "index                                                \n",
      "2021-01-26 08:47:47+00:00 2021-01-26 08:49:17+00:00  \n",
      "2021-01-26 08:49:17+00:00 2021-01-26 08:53:47+00:00  \n",
      "2021-01-26 08:53:47+00:00 2021-01-26 09:02:47+00:00  \n",
      "2021-01-26 09:02:47+00:00 2021-01-26 09:03:17+00:00  \n",
      "2021-01-26 09:03:17+00:00 2021-01-26 09:04:47+00:00  \n",
      "...                                             ...  \n",
      "2021-08-09 15:15:27+00:00 2021-08-09 15:24:57+00:00  \n",
      "2021-08-09 15:24:57+00:00 2021-08-09 15:26:57+00:00  \n",
      "2021-08-09 15:26:57+00:00 2021-08-09 15:27:27+00:00  \n",
      "2021-08-09 15:27:27+00:00 2021-08-09 15:41:27+00:00  \n",
      "2021-08-09 15:41:27+00:00 2021-08-09 15:47:27+00:00  \n",
      "\n",
      "[16720 rows x 3 columns]\n"
     ]
    }
   ],
   "source": [
    "print(df)"
   ]
  },
  {
   "cell_type": "code",

   "source": [
    "df.sort_index(inplace=True)\n",
    "df.to_parquet(outputFileName, compression='gzip') "
   ]
  },
  {
   "cell_type": "code",

   "source": [
    "#i'm going to want to graph based on days  and sessions \n",
    "# and I'll want to seperate out sessions based on time \n",
    "\n",
    "#basically if a sellep session starts on a day then it will be vizualized for that day and the\n",
    "#more than likely they will be vizualized multiple days at a time"
   ]
  }
 ],
 "metadata": {
  "interpreter": {
   "hash": "87e4dce2d64ddd29ba98032e602deb84283b90528a9753928e81e862a87ea896"
  },
  "kernelspec": {
   "display_name": "Python 3",
   "language": "python",
   "name": "python3"
  },
  "language_info": {
   "codemirror_mode": {
    "name": "ipython",
    "version": 3
   },
   "file_extension": ".py",
   "mimetype": "text/x-python",
   "name": "python",
   "nbconvert_exporter": "python",
   "pygments_lexer": "ipython3",
   "version": "3.7.4"
  }
 },
 "nbformat": 4,
 "nbformat_minor": 2
}
